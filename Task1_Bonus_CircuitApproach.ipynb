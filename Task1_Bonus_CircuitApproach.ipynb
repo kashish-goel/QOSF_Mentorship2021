{
 "cells": [
  {
   "cell_type": "markdown",
   "id": "3f5dd416",
   "metadata": {},
   "source": [
    "# Task 1 \n",
    "\n",
    "### Design a quantum circuit that considers as input the following vector of integers numbers:  [1,5,7,10]\n"
   ]
  },
  {
   "cell_type": "markdown",
   "id": "c744aecc",
   "metadata": {},
   "source": [
    "#### 1. Python imports"
   ]
  },
  {
   "cell_type": "code",
   "execution_count": 129,
   "id": "a3aae3ba",
   "metadata": {},
   "outputs": [],
   "source": [
    "import numpy as np\n",
    "import matplotlib.pyplot as plt\n",
    "%matplotlib inline\n",
    "\n",
    "from qiskit import QuantumRegister, QuantumCircuit, BasicAer, ClassicalRegister, execute, assemble\n",
    "from qiskit import IBMQ, BasicAer, Aer\n",
    "from qiskit.quantum_info import Statevector, random_statevector\n",
    "from qiskit.visualization import plot_histogram\n",
    "\n",
    "from qiskit.utils import QuantumInstance, algorithm_globals"
   ]
  },
  {
   "cell_type": "markdown",
   "id": "d1402cfb",
   "metadata": {},
   "source": [
    "#### 2. Consider the vector [1,5,7,10] and pass integer values to binary numbers as [001,101,100,010]"
   ]
  },
  {
   "cell_type": "code",
   "execution_count": 183,
   "id": "b3ecb335",
   "metadata": {
    "scrolled": false
   },
   "outputs": [
    {
     "data": {
      "text/plain": [
       "['0001', '0101', '0111', '1010']"
      ]
     },
     "execution_count": 183,
     "metadata": {},
     "output_type": "execute_result"
    }
   ],
   "source": [
    "# creating an empty list\n",
    "vec = [1,5,7,10] \n",
    "\n",
    "# Finding the number of bits in length for each element\n",
    "m = len(format(max(vec), \"b\"))\n",
    "size = m\n",
    "\n",
    "# create a list to store the binary numbers \n",
    "bin_vec = []\n",
    "for i in range(0,len(vec)):\n",
    "    l = np.binary_repr(vec[i], width=size)\n",
    "    bin_vec.append(l)\n",
    "bin_vec"
   ]
  },
  {
   "cell_type": "markdown",
   "id": "9f71a4d7",
   "metadata": {},
   "source": [
    "#### 3. Defining the Circuit"
   ]
  },
  {
   "cell_type": "code",
   "execution_count": 189,
   "id": "699c9f04",
   "metadata": {
    "scrolled": true
   },
   "outputs": [],
   "source": [
    "# defining the function to find the logical ouput through the circuit\n",
    "# The circuit 'qc' operates uses CNOT Gate which acts as a XOR gate between two consecutive qubits\n",
    "# Only if the two consecutive qubits are '0' and '1', the measurment will be High\n",
    "def oracle(size, no):\n",
    "    ran = size-1\n",
    "    \n",
    "    # Creating a Quantum Circuit\n",
    "    q = QuantumRegister(size)               # No. of Qubits  = Length of the bitstring \n",
    "    c = ClassicalRegister(int(size/2))      # Only half the no.of qubits required for measurment\n",
    "    qc = QuantumCircuit(q,c)\n",
    "    \n",
    "    # Apply X-Gate where the value is '1' in the bitstring\n",
    "    for i in range(size):\n",
    "        if(no[i]=='1'):\n",
    "            qc.x(q[i])\n",
    "            \n",
    "    # Apply CNOT Gate to check if the consecutive bits are '0' and '1'     \n",
    "    for i in range(0,ran,2):\n",
    "        qc.cx(q[i], q[i+1])\n",
    "        \n",
    "    # measure the target bits \n",
    "    j=0\n",
    "    for i in range(1,ran+1,2):\n",
    "        qc.measure(q[i], c[j])\n",
    "        j+=1\n",
    "    return qc"
   ]
  },
  {
   "cell_type": "code",
   "execution_count": 199,
   "id": "1933505c",
   "metadata": {
    "scrolled": true
   },
   "outputs": [
    {
     "name": "stdout",
     "output_type": "stream",
     "text": [
      "{'10': 1000}\n",
      "{'11': 1000}\n",
      "{'01': 1000}\n",
      "{'11': 1000}\n"
     ]
    }
   ],
   "source": [
    "# Iteratively pass each value in [1,5,7,10] and run the circuit\n",
    "for i in range(len(vec)):\n",
    "    # call the function to exectute the circuit\n",
    "    quant = oracle(size, bin_vec[i])              # Pass arguments as the length of the bitstring and one bitstring at a time \n",
    "    backend = Aer.get_backend('qasm_simulator')\n",
    "    job = execute(quant, backend, shots=1000)\n",
    "    result = job.result()\n",
    "    count = result.get_counts()\n",
    "    print(count) "
   ]
  },
  {
   "cell_type": "markdown",
   "id": "ed8243f9",
   "metadata": {},
   "source": [
    "#### 4. Returning Indices of the Numbers satisfying the condition"
   ]
  },
  {
   "cell_type": "code",
   "execution_count": 200,
   "id": "82cd2bcc",
   "metadata": {},
   "outputs": [
    {
     "data": {
      "text/plain": [
       "[1, 3]"
      ]
     },
     "execution_count": 200,
     "metadata": {},
     "output_type": "execute_result"
    }
   ],
   "source": [
    "# Return the indices of the number's bitstring which satisfys the condition \n",
    "indices = []\n",
    "for i in range(len(vec)):\n",
    "    quant = oracle(size, bin_vec[i])\n",
    "    aer_sim = Aer.get_backend('aer_simulator')\n",
    "    qobj = assemble(quant, shots=10)\n",
    "    job = aer_sim.run(qobj, memory=True)\n",
    "    samples = job.result().get_memory()\n",
    "    \n",
    "    # According to the XOR Logic if the result consists of only 1's, we consider that result\n",
    "    # Then it a valid output where binary representation is such that two adjacent bits are different\n",
    "    if '0' not in samples[0]:\n",
    "        indices.append(i)\n",
    "indices"
   ]
  },
  {
   "cell_type": "markdown",
   "id": "5882ca50",
   "metadata": {},
   "source": [
    "#### 5. Final Superposition State"
   ]
  },
  {
   "cell_type": "code",
   "execution_count": 202,
   "id": "8d289bb7",
   "metadata": {},
   "outputs": [
    {
     "data": {
      "text/html": [
       "<pre style=\"word-wrap: normal;white-space: pre;background: #fff0;line-height: 1.1;font-family: &quot;Courier New&quot;,Courier,monospace\">     ┌──────────────────────────────────┐\n",
       "q_0: ┤0                                 ├\n",
       "     │  Initialize(0,0.70711,0,0.70711) │\n",
       "q_1: ┤1                                 ├\n",
       "     └──────────────────────────────────┘</pre>"
      ],
      "text/plain": [
       "     ┌──────────────────────────────────┐\n",
       "q_0: ┤0                                 ├\n",
       "     │  Initialize(0,0.70711,0,0.70711) │\n",
       "q_1: ┤1                                 ├\n",
       "     └──────────────────────────────────┘"
      ]
     },
     "execution_count": 202,
     "metadata": {},
     "output_type": "execute_result"
    }
   ],
   "source": [
    "n = len(bin(max(indices))[2:])\n",
    "\n",
    "#Statevector of initial superposition state\n",
    "initial_sv = np.zeros(shape = (2**n))\n",
    "\n",
    "for i in indices:\n",
    "    initial_sv[i] = 1/np.sqrt(2)\n",
    "\n",
    "#Initialize Quantum Circuit\n",
    "initial_state = QuantumCircuit(n)\n",
    "initial_state.initialize( initial_sv, range(n) )\n",
    "initial_state.draw()"
   ]
  },
  {
   "cell_type": "code",
   "execution_count": 203,
   "id": "e1666998",
   "metadata": {
    "scrolled": false
   },
   "outputs": [
    {
     "name": "stdout",
     "output_type": "stream",
     "text": [
      "{'11': 499, '10': 501}\n"
     ]
    },
    {
     "data": {
      "image/png": "[encoded data removed]",
      "text/plain": [
       "<Figure size 504x360 with 1 Axes>"
      ]
     },
     "execution_count": 203,
     "metadata": {},
     "output_type": "execute_result"
    }
   ],
   "source": [
    "# Histogram for the result of the superposition state 1/sqrt(2) * (|01> + |11>) of the indixces [1,3] \n",
    "q = QuantumRegister(2)\n",
    "qc = QuantumCircuit(q)\n",
    "qc.h(q[0])\n",
    "qc.x(q[1])\n",
    "qc.measure_all()\n",
    "backend = Aer.get_backend('qasm_simulator')\n",
    "job = execute(qc, backend, shots=1000)\n",
    "result = job.result()\n",
    "count = result.get_counts()\n",
    "print(count)\n",
    "plot_histogram(count)"
   ]
  },
  {
   "cell_type": "code",
   "execution_count": 204,
   "id": "cf6d54dc",
   "metadata": {},
   "outputs": [
    {
     "name": "stdout",
     "output_type": "stream",
     "text": [
      "Final State = [1/sqrt(2)]*['01' '11']\n"
     ]
    }
   ],
   "source": [
    "# Final Output State\n",
    "indices = [np.binary_repr(int(i)) for i in indices]\n",
    "max_len = max(np.vectorize(len)(indices))\n",
    "if max_len == 1:\n",
    "    max_len = 2\n",
    "indices = np.array([str(0)*(max_len-len(i))+i for i in indices])\n",
    "\n",
    "print(\"Final State = [1/sqrt({})]*{}\".format(len(indices), indices,))"
   ]
  },
  {
   "cell_type": "markdown",
   "id": "dfb84f32",
   "metadata": {},
   "source": [
    "## Bonus Task"
   ]
  },
  {
   "cell_type": "markdown",
   "id": "896d43cc",
   "metadata": {},
   "source": [
    "#### 1. Input any integer vector and pass integer values to binary numbers in a list"
   ]
  },
  {
   "cell_type": "code",
   "execution_count": 205,
   "id": "b9300a57",
   "metadata": {},
   "outputs": [
    {
     "name": "stdout",
     "output_type": "stream",
     "text": [
      "Enter number of elements : 4\n",
      "21\n",
      "10\n",
      "26\n",
      "28\n"
     ]
    },
    {
     "data": {
      "text/plain": [
       "['10101', '01010', '11010', '11100']"
      ]
     },
     "execution_count": 205,
     "metadata": {},
     "output_type": "execute_result"
    }
   ],
   "source": [
    "# creating an empty list\n",
    "vec = [] \n",
    "\n",
    "# number of elements as input\n",
    "n = int(input(\"Enter number of elements : \"))\n",
    "\n",
    "# iterating till the range\n",
    "for i in range(0, n):\n",
    "    ele = int(input())\n",
    "    vec.append(ele)\n",
    "    \n",
    "# To find m bits in length for each element\n",
    "m = len(format(max(vec), \"b\"))\n",
    "size = m\n",
    "\n",
    "# create a list to store the binary numbers \n",
    "bin_vec = []\n",
    "for i in range(0,len(vec)):\n",
    "    l = np.binary_repr(vec[i], width=size)\n",
    "    bin_vec.append(l)\n",
    "bin_vec"
   ]
  },
  {
   "cell_type": "markdown",
   "id": "2703c361",
   "metadata": {},
   "source": [
    "#### 2. Defining the Circuit"
   ]
  },
  {
   "cell_type": "code",
   "execution_count": 208,
   "id": "5d2fee07",
   "metadata": {},
   "outputs": [],
   "source": [
    "# defining the function to find the logical ouput through the circuit\n",
    "# The circuit 'qc' operates uses CNOT Gate which acts as a XOR gate between two consecutive qubits\n",
    "# Only if the two consecutive qubits are '0' and '1', the measurment will be High\n",
    "def oracle(size, no):\n",
    "    ran = size-1\n",
    "    \n",
    "    # Creating a Quantum Circuit\n",
    "    q = QuantumRegister(size)               # No. of Qubits  = Length of the bitstring \n",
    "    c = ClassicalRegister(int(size/2))      # Only half the no.of qubits required for measurment\n",
    "    qc = QuantumCircuit(q,c)\n",
    "    \n",
    "    # Apply X-Gate where the value is '1' in the bitstring\n",
    "    for i in range(size):\n",
    "        if(no[i]=='1'):\n",
    "            qc.x(q[i])\n",
    "            \n",
    "    # Apply CNOT Gate to check if the consecutive bits are '0' and '1'     \n",
    "    for i in range(0,ran,2):\n",
    "        qc.cx(q[i], q[i+1])\n",
    "        \n",
    "    # measure the target bits \n",
    "    j=0\n",
    "    for i in range(1,ran+1,2):\n",
    "        qc.measure(q[i], c[j])\n",
    "        j+=1\n",
    "    return qc"
   ]
  },
  {
   "cell_type": "code",
   "execution_count": 209,
   "id": "c128c1fb",
   "metadata": {},
   "outputs": [],
   "source": [
    "# defining the function to find the logical ouput through the circuit\n",
    "# The circuit 'qc' operates uses CNOT Gate which acts as a XOR gate between two consecutive qubits\n",
    "# Only if the two consecutive qubits are '0' and '1', the measurment will be High\n",
    "def oracle(size, no):\n",
    "    num_qubits = size\n",
    "    \n",
    "    # Check if the no. of bits in the bitstring are even or odd\n",
    "    if(size%2==0):          \n",
    "        ran = num_qubits-1   \n",
    "        num_c = int(size/2)          # Only half the no.of qubits required for measurment    \n",
    "    else:\n",
    "        num_c = int(size/2)+1        # Only half the no.of qubits required for measurment and one extra to measure the last bit value\n",
    "        ran = num_qubits-2\n",
    "        \n",
    "    # Creating a Quantum Circuit\n",
    "    q = QuantumRegister(size)        # No. of Qubits  = Length of the bitstring \n",
    "    c = ClassicalRegister(num_c)\n",
    "    qc = QuantumCircuit(q,c) \n",
    "    \n",
    "    # Apply X-Gate where the value is '1' in the bitstring\n",
    "    for i in range(size):\n",
    "        if(no[i]=='1'):\n",
    "            qc.x(q[i])\n",
    "            \n",
    "    # Apply CNOT Gate to check if the consecutive bits are '0' and '1'            \n",
    "    for i in range(0,ran,2):\n",
    "        qc.cx(q[i], q[i+1])\n",
    "        \n",
    "    # measure the target bits    \n",
    "    j=0\n",
    "    for i in range(1,ran+1,2):\n",
    "        qc.measure(q[i], c[j])\n",
    "        j+=1\n",
    "        \n",
    "    # If the no. of bits are odd\n",
    "    # Check if the Last bit value is same as the First bit value\n",
    "    # Check if the Last bit value is '0'\n",
    "    \n",
    "    # If Both the conditions are satisfied - then flip the Last Bit value to '1',\n",
    "    # Now the value of the result for this bit string includes all 1's\n",
    "    if(size%2==1):\n",
    "        if(no[0]==no[num_qubits-1] and no[num_qubits-1]=='0'):\n",
    "            qc.x(q[num_qubits-1])\n",
    "        qc.measure(q[num_qubits-1],c[j])          # Measure the last bit in the bitstring\n",
    "    return qc"
   ]
  },
  {
   "cell_type": "code",
   "execution_count": 210,
   "id": "97bc1813",
   "metadata": {},
   "outputs": [
    {
     "name": "stdout",
     "output_type": "stream",
     "text": [
      "{'111': 1000}\n",
      "{'111': 1000}\n",
      "{'010': 1000}\n",
      "{'010': 1000}\n"
     ]
    }
   ],
   "source": [
    "# Iteratively pass each value in [1,5,7,10] and run the circuit\n",
    "for i in range(n):\n",
    "    # call the function to exectute the circuit\n",
    "    quant = oracle(size, bin_vec[i])              # Pass arguments as the length of the bitstring and one bitstring at a time \n",
    "    backend = Aer.get_backend('qasm_simulator')\n",
    "    job = execute(quant, backend, shots=1000)\n",
    "    result = job.result()\n",
    "    count = result.get_counts()\n",
    "    print(count) "
   ]
  },
  {
   "cell_type": "markdown",
   "id": "d829a514",
   "metadata": {},
   "source": [
    "#### 3. Returning Indices of the Numbers satisfying the condition"
   ]
  },
  {
   "cell_type": "code",
   "execution_count": 211,
   "id": "655f1266",
   "metadata": {},
   "outputs": [
    {
     "data": {
      "text/plain": [
       "[0, 1]"
      ]
     },
     "execution_count": 211,
     "metadata": {},
     "output_type": "execute_result"
    }
   ],
   "source": [
    "# Return the indices of the number's bitstring which satisfys the condition \n",
    "indices = []\n",
    "for i in range(n):\n",
    "    quant = oracle(size, bin_vec[i])\n",
    "    aer_sim = Aer.get_backend('aer_simulator')\n",
    "    qobj = assemble(quant, shots=10)\n",
    "    job = aer_sim.run(qobj, memory=True)\n",
    "    samples = job.result().get_memory()\n",
    "    \n",
    "    # According to the XOR Logic if the result consists of only 1's, we consider that result\n",
    "    # Then it a valid output where binary representation is such that two adjacent bits are different\n",
    "    if '0' not in samples[0]:\n",
    "        indices.append(i)\n",
    "indices"
   ]
  },
  {
   "cell_type": "markdown",
   "id": "c26e1a02",
   "metadata": {},
   "source": [
    "#### 5. Final Superposition State"
   ]
  },
  {
   "cell_type": "code",
   "execution_count": 216,
   "id": "332a7c0c",
   "metadata": {},
   "outputs": [
    {
     "name": "stdout",
     "output_type": "stream",
     "text": [
      "Final State = [1/sqrt(2)]*['00' '01']\n"
     ]
    }
   ],
   "source": [
    "# Final Output State\n",
    "indices = [np.binary_repr(int(i)) for i in indices]\n",
    "max_len = max(np.vectorize(len)(indices))\n",
    "if max_len == 1:\n",
    "    max_len = 2\n",
    "indices = np.array([str(0)*(max_len-len(i))+i for i in indices])\n",
    "\n",
    "print(\"Final State = [1/sqrt({})]*{}\".format(len(indices), indices,))"
   ]
  }
 ],
 "metadata": {
  "kernelspec": {
   "display_name": "Python 3",
   "language": "python",
   "name": "python3"
  },
  "language_info": {
   "codemirror_mode": {
    "name": "ipython",
    "version": 3
   },
   "file_extension": ".py",
   "mimetype": "text/x-python",
   "name": "python",
   "nbconvert_exporter": "python",
   "pygments_lexer": "ipython3",
   "version": "3.8.8"
  }
 },
 "nbformat": 4,
 "nbformat_minor": 5
}
